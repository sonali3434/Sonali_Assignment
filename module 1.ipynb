{
 "cells": [
  {
   "cell_type": "code",
   "execution_count": null,
   "id": "aded519e",
   "metadata": {},
   "outputs": [],
   "source": [
    "#ANS1:\n",
    "#software is nothing but a collection of computer programs and relates documents that are intended to provide desired features,\n",
    "#functionalities and better performance."
   ]
  },
  {
   "cell_type": "code",
   "execution_count": null,
   "id": "76993e03",
   "metadata": {},
   "outputs": [],
   "source": [
    "#ANS2:\n",
    "#there are mainly three types of applications.\n",
    "#1.web application:web app is a computer program with functionality and interactive elements.\n",
    "                   #Examples of web app-shopping carts,video and photo editing apps,file scanning apps and so on.\n",
    "    \n",
    "#2.Mobile application:An application software intended to run on mobile devices like tablets,smart phones.\n",
    "                  #Example:Zoom.apk\n",
    "    \n",
    "#3.Desktop application:An application that runs stand-alone in a desktop or laptop computer.\n",
    "                  #Example:Zoom.exe"
   ]
  },
  {
   "cell_type": "code",
   "execution_count": null,
   "id": "e418a991",
   "metadata": {},
   "outputs": [],
   "source": [
    "#ANS3:\n",
    "#When computers are supposed to perform any task then set of instructions are given to it,this whole mechanism/procedure is \n",
    "#called programming.\n",
    "#programming is done by using different programing languages which are further used by translators(compiler,interpreter) \n"
   ]
  },
  {
   "cell_type": "code",
   "execution_count": null,
   "id": "d4963d37",
   "metadata": {},
   "outputs": [],
   "source": [
    "#ANS4:\n",
    "#Python is a very popular high level programing language which is created by Guido Van Rossum during 1991.\n",
    "#the name 'Python' comes from an old BBC television comedy sketch series called Monty Python's Flying Circus."
   ]
  }
 ],
 "metadata": {
  "kernelspec": {
   "display_name": "Python 3 (ipykernel)",
   "language": "python",
   "name": "python3"
  },
  "language_info": {
   "codemirror_mode": {
    "name": "ipython",
    "version": 3
   },
   "file_extension": ".py",
   "mimetype": "text/x-python",
   "name": "python",
   "nbconvert_exporter": "python",
   "pygments_lexer": "ipython3",
   "version": "3.9.13"
  }
 },
 "nbformat": 4,
 "nbformat_minor": 5
}
