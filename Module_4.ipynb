{
 "cells": [
  {
   "cell_type": "code",
   "execution_count": null,
   "id": "e85e3594",
   "metadata": {},
   "outputs": [],
   "source": [
    "#1. What is File function in python? What is keywords to create and write file.\n",
    "#File function provides some methods to access files and perform some tasks like\n",
    "#1.to read file\n",
    "#2.to create new file\n",
    "#3.to write inside the file etc.\n"
   ]
  },
  {
   "cell_type": "code",
   "execution_count": 8,
   "id": "583f1801",
   "metadata": {},
   "outputs": [
    {
     "data": {
      "text/plain": [
       "'i love python'"
      ]
     },
     "execution_count": 8,
     "metadata": {},
     "output_type": "execute_result"
    }
   ],
   "source": [
    "#2. Write a Python program to read an entire text file.\n",
    "a=open(r'C:\\Users\\admin\\Documents\\python practice\\sona.txt','r')\n",
    "a.read()"
   ]
  },
  {
   "cell_type": "code",
   "execution_count": 21,
   "id": "03214baf",
   "metadata": {},
   "outputs": [
    {
     "data": {
      "text/plain": [
       "'python is an object oriented programming language'"
      ]
     },
     "execution_count": 21,
     "metadata": {},
     "output_type": "execute_result"
    }
   ],
   "source": [
    "#3.write a python program to append text to the file and read the file.\n",
    "a=open(r'C:\\Users\\admin\\Documents\\python practice\\sona.txt','w')\n",
    "a.write('python is an object oriented programming language')\n",
    "a=open(r'C:\\Users\\admin\\Documents\\python practice\\sona.txt','r')\n",
    "a.read()\n"
   ]
  },
  {
   "cell_type": "code",
   "execution_count": 25,
   "id": "7108b2ea",
   "metadata": {},
   "outputs": [
    {
     "name": "stdout",
     "output_type": "stream",
     "text": [
      "Enter Number Of Lines You Want To Read: 5\n",
      "Coral is a class of colonial animal that is related to hydroids, jellyfish, and sea anemones.\n",
      "\n",
      "Stony corals, a type of coral characterized by their hard skeleton, are the bedrock of the reef. \n",
      "\n",
      "Stony coral colonies are composed of hundreds of thousands of individual living polyps.\n",
      "\n",
      "\n",
      "\n",
      "SOME SURPRISING FACTS ABOUT CORAL REEFS:-\n",
      "\n"
     ]
    }
   ],
   "source": [
    "#4. Write a Python program to read first n lines of a file.\n",
    "a = int(input('Enter Number Of Lines You Want To Read: '))\n",
    "b = open(r'C:\\Users\\admin\\Documents\\python practice\\sona.txt','r')\n",
    "for i in range(a):\n",
    "    print(b.readline())\n"
   ]
  },
  {
   "cell_type": "code",
   "execution_count": 16,
   "id": "1ee812c2",
   "metadata": {},
   "outputs": [
    {
     "name": "stdout",
     "output_type": "stream",
     "text": [
      "Enter Number Of Lines You Want To Read: 4\n",
      "Built by experienced developers, Django takes care of much of the hassle of web development\n",
      "so you can focus on writing your app without needing to reinvent the wheel.\n",
      "\n",
      "\n"
     ]
    }
   ],
   "source": [
    "#5. Write a Python program to read last n lines of a file.\n",
    "a = int(input('Enter Number Of Lines You Want To Read: '))\n",
    "b = open(r'C:\\Users\\admin\\Documents\\python practice\\intro.txt.txt','r')\n",
    "for i in (b.readlines() [-a:]):\n",
    "            print(i, end ='')\n",
    " \n",
    "\n"
   ]
  },
  {
   "cell_type": "code",
   "execution_count": 20,
   "id": "c9d54013",
   "metadata": {},
   "outputs": [
    {
     "name": "stdout",
     "output_type": "stream",
     "text": [
      "['django is an open source framework.\\n', 'Django is a high-level Python web framework.\\n', 'it enables rapid development of secure and maintainable websites.\\n', 'Built by experienced developers, Django takes care of much of the hassle of web development\\n', 'so you can focus on writing your app without needing to reinvent the wheel.\\n', '\\n', '\\n']\n"
     ]
    }
   ],
   "source": [
    "#6. Write a Python program to read a file line by line and store it into a list.\n",
    "a = open(r'C:\\Users\\admin\\Documents\\python practice\\intro.txt.txt','r')\n",
    "b=a.readlines()\n",
    "print(b)"
   ]
  },
  {
   "cell_type": "code",
   "execution_count": 21,
   "id": "11b50f11",
   "metadata": {},
   "outputs": [
    {
     "name": "stdout",
     "output_type": "stream",
     "text": [
      "['django is an open source framework.\\n', 'Django is a high-level Python web framework.\\n', 'it enables rapid development of secure and maintainable websites.\\n', 'Built by experienced developers, Django takes care of much of the hassle of web development\\n', 'so you can focus on writing your app without needing to reinvent the wheel.\\n', '\\n', '\\n']\n"
     ]
    }
   ],
   "source": [
    "#7.Write a Python program to read a file line by line store it into a variable.\n",
    "a = open(r'C:\\Users\\admin\\Documents\\python practice\\intro.txt.txt','r')\n",
    "b=a.readlines()\n",
    "print(b)\n"
   ]
  },
  {
   "cell_type": "code",
   "execution_count": 141,
   "id": "39e50675",
   "metadata": {},
   "outputs": [
    {
     "name": "stdout",
     "output_type": "stream",
     "text": [
      "pycharm : 7\n"
     ]
    }
   ],
   "source": [
    "#8.Write a python program to find the longest words.\n",
    "a=open(r'C:\\Users\\admin\\Documents\\python practice\\intro.txt.txt','r')\n",
    "file = a.read().split()\n",
    "lenght = 0\n",
    "Longest_word = \"\"\n",
    "for word in file:\n",
    "    if len(word) > lenght:\n",
    "        lenght = len(word)\n",
    "        Longest_word = word\n",
    "\n",
    "print(Longest_word, ':',lenght)\n",
    "    \n",
    "\n"
   ]
  },
  {
   "cell_type": "code",
   "execution_count": 10,
   "id": "86639aac",
   "metadata": {},
   "outputs": [
    {
     "name": "stdout",
     "output_type": "stream",
     "text": [
      "Number of lines in given file is 5\n"
     ]
    }
   ],
   "source": [
    "#9.Write a Python program to count the number of lines in a text file.\n",
    "a=open(r'C:\\Users\\admin\\Documents\\python practice\\intro.txt.txt','r')\n",
    "b=0\n",
    "for i in a:\n",
    "        b+=1\n",
    "print('Number of lines in given file is', b )\n"
   ]
  },
  {
   "cell_type": "code",
   "execution_count": 34,
   "id": "81ea1cd8",
   "metadata": {},
   "outputs": [
    {
     "name": "stdout",
     "output_type": "stream",
     "text": [
      "{'django': 1, 'is': 1, 'an': 1, 'open': 1, 'source': 1, 'framework.\\n': 1, '\\n': 4}\n"
     ]
    }
   ],
   "source": [
    "#10.Write a Python program to count the frequency of words in a file.\n",
    "a=open(r'C:\\Users\\admin\\Documents\\python practice\\intro.txt.txt','r')\n",
    "d1={}\n",
    "for i in a:\n",
    "    b = i.split(\" \")\n",
    "    for j in b:\n",
    "        d1[j] = d1.get(j,0)+1\n",
    "print(d1)\n"
   ]
  },
  {
   "cell_type": "code",
   "execution_count": 54,
   "id": "0483dec6",
   "metadata": {},
   "outputs": [
    {
     "data": {
      "text/plain": [
       "'django  pycharm  flask'"
      ]
     },
     "execution_count": 54,
     "metadata": {},
     "output_type": "execute_result"
    }
   ],
   "source": [
    "#11.Write a Python program to write a list to a file.\n",
    "l1=['django ',' pycharm ',' flask']\n",
    "a=open(r'C:\\Users\\admin\\Documents\\python practice\\intro.txt.txt','w')\n",
    "for i in l1:\n",
    "    a.write(i)\n",
    "a=open(r'C:\\Users\\admin\\Documents\\python practice\\intro.txt.txt','r')\n",
    "a.read()\n",
    "\n",
    "\n"
   ]
  },
  {
   "cell_type": "code",
   "execution_count": 56,
   "id": "bac0863f",
   "metadata": {},
   "outputs": [
    {
     "data": {
      "text/plain": [
       "'Coral is a class of colonial animal that is related to hydroids, jellyfish, and sea anemones.\\nStony corals, a type of coral characterized by their hard skeleton, are the bedrock of the reef. \\nStony coral colonies are composed of hundreds of thousands of individual living polyps.\\n\\nSOME SURPRISING FACTS ABOUT CORAL REEFS:-\\n\\n1:Corals Are Animals. ...\\n2: Corals Can Be Fluorescent. ...\\n3: Corals Eat Plankton/Small Fish. ...\\n4: There Are Hundreds of Coral Species of All Colors, Shapes and Sizes. ...\\n5: Corals Can Move. ...\\n6: Corals Support 25 Percent of Ocean Life. ...\\n7: Climate Change Is the Biggest Threat to Corals.\\n\\n\\ndjango  pycharm  flask'"
      ]
     },
     "execution_count": 56,
     "metadata": {},
     "output_type": "execute_result"
    }
   ],
   "source": [
    "#12.Write a Python program to copy the contents of a file to another file.\n",
    "a=open(r'C:\\Users\\admin\\Documents\\python practice\\intro.txt.txt','r')\n",
    "b=open(r'C:\\Users\\admin\\Documents\\python practice\\sona.txt','a')\n",
    "for i in a:\n",
    "    b.write(i)\n",
    "c=open(r'C:\\Users\\admin\\Documents\\python practice\\sona.txt','r')\n",
    "c.read()\n"
   ]
  },
  {
   "cell_type": "code",
   "execution_count": null,
   "id": "174435d3",
   "metadata": {},
   "outputs": [],
   "source": [
    "#13.Explain Exception handling? What is an Error in Python?\n",
    "#An exception is an event, which occurs during the execution of a program that disrupts the normal flow of the program's instructions. In general, when a Python script encounters a situation that it cannot cope with, it raises an exception.\n",
    "#An exception is a Python object that represents an error."
   ]
  },
  {
   "cell_type": "code",
   "execution_count": null,
   "id": "95b6c058",
   "metadata": {},
   "outputs": [],
   "source": [
    "#14.How many except statements can a try-except block have? Name Some built-in exception classes.\n",
    "#it should have at least one try-except statement."
   ]
  },
  {
   "cell_type": "code",
   "execution_count": null,
   "id": "176073e0",
   "metadata": {},
   "outputs": [],
   "source": [
    "#15.When will the else part of try-except-else be executed?\n",
    "#else part of try-except be executed when there is no error in code or no exception occurs while executing."
   ]
  },
  {
   "cell_type": "code",
   "execution_count": null,
   "id": "18925071",
   "metadata": {},
   "outputs": [],
   "source": [
    "#16.Can one block of except statements handle multiple exception?\n",
    "#In Python, try-except blocks can be used to catch and respond to one or multiple exceptions. In cases where a process raises more than one possible exception, they can all be handled using a single except clause.\n"
   ]
  },
  {
   "cell_type": "code",
   "execution_count": null,
   "id": "96d7a883",
   "metadata": {},
   "outputs": [],
   "source": [
    "#17.When is the finally block executed?\n",
    "#The finally block always executes when the try block exits. This ensures that the finally block is executed even if an unexpected exception occurs."
   ]
  },
  {
   "cell_type": "code",
   "execution_count": null,
   "id": "3a3435b4",
   "metadata": {},
   "outputs": [],
   "source": [
    "#18.What happens when „1‟== 1 is executed?\n",
    " #it simply evaluates to false and does not raise any exception."
   ]
  },
  {
   "cell_type": "code",
   "execution_count": 88,
   "id": "10589312",
   "metadata": {},
   "outputs": [
    {
     "name": "stdout",
     "output_type": "stream",
     "text": [
      "Divided by zero\n"
     ]
    }
   ],
   "source": [
    "#19.How Do You Handle Exceptions With Try/Except/Finally In Python? Explain with coding snippets.\n",
    "try: \n",
    "    1 / 0\n",
    "except ZeroDivisionError: \n",
    "    print('Divided by zero')\n",
    "\n"
   ]
  },
  {
   "cell_type": "code",
   "execution_count": 92,
   "id": "dd383241",
   "metadata": {},
   "outputs": [
    {
     "name": "stdout",
     "output_type": "stream",
     "text": [
      "enter any number:6\n",
      "enter correct number\n"
     ]
    }
   ],
   "source": [
    "#20.Write python program that user to enter only odd numbers, else will raise an exception.\n",
    "a=int(input('enter any number:'))\n",
    "try:\n",
    "    assert a%2!=0\n",
    "    print('number is odd')\n",
    "except:\n",
    "    print('enter correct number')\n"
   ]
  },
  {
   "cell_type": "code",
   "execution_count": null,
   "id": "d6bc2892",
   "metadata": {},
   "outputs": [],
   "source": [
    "#21.What are oops concepts? Is multiple inheritance supported in java.\n",
    "#Object-oriented programming (OOP) is a computer programming model that organizes software design around data, or objects, rather than functions and logic.\n",
    "#Java does not support multiple inheritence."
   ]
  },
  {
   "cell_type": "code",
   "execution_count": 95,
   "id": "2c10d31c",
   "metadata": {},
   "outputs": [
    {
     "name": "stdout",
     "output_type": "stream",
     "text": [
      "Land rover defender\n"
     ]
    }
   ],
   "source": [
    "#22.How to Define a Class in Python? What Is Self? Give An Example Of A Python Class.\n",
    "class car():\n",
    "      \n",
    "\n",
    "    def __init__(self, model, color):\n",
    "        self.model = model\n",
    "        self.color = color\n",
    "def show(self):\n",
    "        print(\"Model is\", self.model )\n",
    "        print(\"color is\", self.color )\n",
    "land_rover = car(\"Land rover defender\", \"grey\")\n",
    "print(land_rover.model)\n",
    "\n",
    "#self represents the instance of the class. By using the “self”  we can access the attributes and methods of the class in python. It binds the attributes with the given arguments."
   ]
  },
  {
   "cell_type": "code",
   "execution_count": 99,
   "id": "fc65027c",
   "metadata": {},
   "outputs": [
    {
     "name": "stdout",
     "output_type": "stream",
     "text": [
      "533.25\n"
     ]
    }
   ],
   "source": [
    "#23.Write a Python class named Rectangle constructed by a length and width and a method which will compute the area of a rectangle\n",
    "class Rectangle():\n",
    "    \n",
    "    def __init__(self, a, b):\n",
    "        self.length = a\n",
    "        self.width  = b\n",
    "\n",
    "    def area(self):\n",
    "        return self.length*self.width\n",
    "\n",
    "c = Rectangle(22.5,23.7)\n",
    "print(c.area())"
   ]
  },
  {
   "cell_type": "code",
   "execution_count": 102,
   "id": "97764b97",
   "metadata": {},
   "outputs": [
    {
     "name": "stdout",
     "output_type": "stream",
     "text": [
      "area of circle is: 200.96\n",
      "perimeter of circle is: 50.24\n"
     ]
    }
   ],
   "source": [
    "#24.Write a Python class named Circle constructed by a radius and two methods which will compute the area and the perimeter of a circle\n",
    "class Circle():\n",
    "    \n",
    "    def __init__(self, a):\n",
    "        self.radius = a\n",
    "\n",
    "    def area(self):\n",
    "        return self.radius**2*3.14\n",
    "    \n",
    "    def perimeter(self):\n",
    "        return 2*self.radius*3.14\n",
    "\n",
    "b = Circle(8)\n",
    "print('area of circle is:',b.area())\n",
    "print('perimeter of circle is:',b.perimeter())\n"
   ]
  },
  {
   "cell_type": "code",
   "execution_count": 108,
   "id": "09c77a71",
   "metadata": {},
   "outputs": [
    {
     "name": "stdout",
     "output_type": "stream",
     "text": [
      "number of days in january is: 31\n",
      "number of days in februry is: 31\n"
     ]
    }
   ],
   "source": [
    "#25.Explain Inheritance in Python with an example? What is init? Or What Is A Constructor In Python?\n",
    "#It is a mechanism that allows you to create a hierarchy of classes that share a set of properties and methods by deriving a class from another class.\n",
    "class january:  \n",
    "    def day(self):  \n",
    "        print('number of days in january is:',31)  \n",
    "\n",
    "class march(january):  \n",
    "    def days(self):  \n",
    "        print('number of days in februry is:',31)  \n",
    "a = march()  \n",
    "a.day()  \n",
    "a.days()  \n",
    "\n",
    "#__init__ is used to create an object,hence it is also called constructor."
   ]
  },
  {
   "cell_type": "code",
   "execution_count": null,
   "id": "8a1ee36d",
   "metadata": {},
   "outputs": [],
   "source": [
    "#26.What is Instantiation in terms of OOP terminology?\n",
    "#Instantiation: it means to create new object , when we create new object the whole process of creating new object is known as instantiation."
   ]
  },
  {
   "cell_type": "code",
   "execution_count": null,
   "id": "272249a8",
   "metadata": {},
   "outputs": [],
   "source": [
    "#27.What is used to check whether an object o is an instance of class A?\n",
    "#if objectName is an instance of className , the operator returns true . Otherwise, it returns false ."
   ]
  }
 ],
 "metadata": {
  "kernelspec": {
   "display_name": "Python 3 (ipykernel)",
   "language": "python",
   "name": "python3"
  },
  "language_info": {
   "codemirror_mode": {
    "name": "ipython",
    "version": 3
   },
   "file_extension": ".py",
   "mimetype": "text/x-python",
   "name": "python",
   "nbconvert_exporter": "python",
   "pygments_lexer": "ipython3",
   "version": "3.9.13"
  }
 },
 "nbformat": 4,
 "nbformat_minor": 5
}
