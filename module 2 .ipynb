{
 "cells": [
  {
   "cell_type": "code",
   "execution_count": 8,
   "id": "2c43cf03",
   "metadata": {},
   "outputs": [
    {
     "name": "stdout",
     "output_type": "stream",
     "text": [
      "6\n",
      "positive\n"
     ]
    }
   ],
   "source": [
    "#ans=1\n",
    "s = int(input())\n",
    "if s > 0:\n",
    "    print('positive')\n",
    "elif s < 0:\n",
    "    print('negative')\n",
    "else:\n",
    "    print('zero')\n",
    "    "
   ]
  },
  {
   "cell_type": "code",
   "execution_count": 7,
   "id": "c148091b",
   "metadata": {},
   "outputs": [
    {
     "name": "stdout",
     "output_type": "stream",
     "text": [
      "5\n",
      "6\n",
      "num1 6\n",
      "num2 5\n"
     ]
    }
   ],
   "source": [
    "#ans=5\n",
    "num1 = int(input())\n",
    "num2 = int(input())\n",
    "num1,num2=num2,num1\n",
    "print('num1',num1)\n",
    "print('num2',num2)"
   ]
  },
  {
   "cell_type": "code",
   "execution_count": 6,
   "id": "466fff28",
   "metadata": {},
   "outputs": [
    {
     "name": "stdout",
     "output_type": "stream",
     "text": [
      "5\n",
      "odd number\n"
     ]
    }
   ],
   "source": [
    "#ans=6\n",
    "num = int(input())\n",
    "if num%2 == 0:\n",
    "    print('even number')\n",
    "else:\n",
    "    print('odd number')"
   ]
  },
  {
   "cell_type": "code",
   "execution_count": null,
   "id": "2c0ec496",
   "metadata": {},
   "outputs": [],
   "source": []
  },
  {
   "cell_type": "code",
   "execution_count": 5,
   "id": "caee38c4",
   "metadata": {},
   "outputs": [
    {
     "name": "stdout",
     "output_type": "stream",
     "text": [
      "z\n",
      "constant\n"
     ]
    }
   ],
   "source": [
    "#ans=7\n",
    "letter = input()\n",
    "if letter in ('A','E','I','O','U'):\n",
    "    print('vowel')\n",
    "else:\n",
    "    print('constant')"
   ]
  },
  {
   "cell_type": "code",
   "execution_count": 2,
   "id": "0deab402",
   "metadata": {},
   "outputs": [
    {
     "name": "stdout",
     "output_type": "stream",
     "text": [
      "20\n",
      "210\n"
     ]
    }
   ],
   "source": [
    "#ans=10\n",
    "a = int(input())\n",
    "b=a+1\n",
    "c=(b/2)\n",
    "d= c * a\n",
    "e=int(d)\n",
    "print(e)"
   ]
  },
  {
   "cell_type": "code",
   "execution_count": 1,
   "id": "ae7f0d63",
   "metadata": {},
   "outputs": [
    {
     "name": "stdout",
     "output_type": "stream",
     "text": [
      "i love wuba\n",
      "11\n"
     ]
    }
   ],
   "source": [
    "#ans=11\n",
    "string = input()\n",
    "print(len(string))\n"
   ]
  }
 ],
 "metadata": {
  "kernelspec": {
   "display_name": "Python 3 (ipykernel)",
   "language": "python",
   "name": "python3"
  },
  "language_info": {
   "codemirror_mode": {
    "name": "ipython",
    "version": 3
   },
   "file_extension": ".py",
   "mimetype": "text/x-python",
   "name": "python",
   "nbconvert_exporter": "python",
   "pygments_lexer": "ipython3",
   "version": "3.9.13"
  }
 },
 "nbformat": 4,
 "nbformat_minor": 5
}
