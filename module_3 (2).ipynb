{
 "cells": [
  {
   "cell_type": "code",
   "execution_count": 34,
   "id": "8c2a1cba",
   "metadata": {},
   "outputs": [
    {
     "name": "stdout",
     "output_type": "stream",
     "text": [
      "given list in reverse order: ['blueberries', 'strawberries', 'mulberries']\n",
      "given list in reverse order: ['kinkajou', 'morpho', 'sloth']\n"
     ]
    }
   ],
   "source": [
    "#1. what is list ?how will you  reverse it ?\n",
    "#list is datatype which is represented in square bracket[] and elements/items of list are saperated by comma.\n",
    "#if we want to reverse a list then reverse method can be used.\n",
    "#example 1:\n",
    "a=['mulberries','strawberries','blueberries']\n",
    "a.reverse()\n",
    "print('given list in reverse order:',a)\n",
    "\n",
    "#example 2:\n",
    "b=['sloth','morpho','kinkajou']\n",
    "print('given list in reverse order:',b[-1::-1])"
   ]
  },
  {
   "cell_type": "code",
   "execution_count": 33,
   "id": "eb9bfb51",
   "metadata": {},
   "outputs": [
    {
     "name": "stdout",
     "output_type": "stream",
     "text": [
      "list after removing last element: ['plumeria', 'orchid']\n",
      "list after removing last element: ['jelly', 'pudding']\n"
     ]
    }
   ],
   "source": [
    "#2. how will you remove last object from a list?\n",
    "#to remove last element from list,pop() method can be used.\n",
    "#example 1:\n",
    "L1=['plumeria','orchid','lily']\n",
    "L1.pop()\n",
    "print('list after removing last element:',L1)\n",
    "\n",
    "#example 2:\n",
    "L2=['jelly','pudding','pie']\n",
    "print('list after removing last element:',L2[0:-1])"
   ]
  },
  {
   "cell_type": "code",
   "execution_count": 32,
   "id": "29583fdf",
   "metadata": {},
   "outputs": [
    {
     "name": "stdout",
     "output_type": "stream",
     "text": [
      "25\n"
     ]
    }
   ],
   "source": [
    "#3. suppose list1 is [2,33,222,14,25],what is list1[-1]?\n",
    "#list1[-1] is 25.\n",
    "\n",
    "list1=[2,33,222,14,25]\n",
    "print(list1[-1])"
   ]
  },
  {
   "cell_type": "code",
   "execution_count": 31,
   "id": "83faa47e",
   "metadata": {},
   "outputs": [
    {
     "name": "stdout",
     "output_type": "stream",
     "text": [
      "list by using append() method ['alpha', 'beta', 'lambda']\n",
      "list by using extend method ['alpha', 'beta', 'l', 'a', 'm', 'b', 'd', 'a']\n"
     ]
    }
   ],
   "source": [
    "#4. differentiate between append() and extend() methods?\n",
    "#append() method adds element at end of the list.\n",
    "#extend() methods adds elements of given iterable at the end of the list.\n",
    "\n",
    "#example of append() method.\n",
    "a=['alpha','beta']\n",
    "a.append('lambda')\n",
    "print('list by using append() method',a)\n",
    "\n",
    "a=['alpha','beta']\n",
    "a.extend('lambda')\n",
    "print('list by using extend method',a)"
   ]
  },
  {
   "cell_type": "code",
   "execution_count": 1,
   "id": "1255327a",
   "metadata": {},
   "outputs": [
    {
     "name": "stdout",
     "output_type": "stream",
     "text": [
      "minimun value from given list is: 12\n",
      "maximum value from given list is: 90\n"
     ]
    }
   ],
   "source": [
    "#5. write a python function to get the largest number,smallest number and sum of all from the list.\n",
    "l1=[25,12,90]\n",
    "l1.sort()\n",
    "print('minimun value from given list is:',l1[0])\n",
    "print('maximum value from given list is:',l1[-1])\n"
   ]
  },
  {
   "cell_type": "code",
   "execution_count": 2,
   "id": "45915897",
   "metadata": {},
   "outputs": [
    {
     "name": "stdout",
     "output_type": "stream",
     "text": [
      "true\n"
     ]
    }
   ],
   "source": [
    "#6. How will you compare two lists?\n",
    "l1=[2,4,6]\n",
    "l2=[2,4,6]\n",
    "if l1==l2:\n",
    "    print('true')"
   ]
  },
  {
   "cell_type": "code",
   "execution_count": 6,
   "id": "b7e9e309",
   "metadata": {},
   "outputs": [
    {
     "name": "stdout",
     "output_type": "stream",
     "text": [
      "2\n"
     ]
    }
   ],
   "source": [
    "#7. Write a Python program to count the number of strings where the string length is 2 or more and the first and last character are same from a givenlist of strings.\n",
    "def count(a):\n",
    "    z=0\n",
    "    for i in a:\n",
    "        if len(i)>1 and i[0]==i[-1]:\n",
    "            z+=1\n",
    "    return z\n",
    "print(count(['abc', 'xyz', 'aba', '1221']))\n",
    "\n"
   ]
  },
  {
   "cell_type": "code",
   "execution_count": 13,
   "id": "3e523fce",
   "metadata": {},
   "outputs": [
    {
     "name": "stdout",
     "output_type": "stream",
     "text": [
      "new list after removing duplicate elements is: [1, 2, 3, 6, 5, 7, 8]\n"
     ]
    }
   ],
   "source": [
    "#8. Write a Python program to remove duplicates from a list.\n",
    "l1 = [1, 2, 3, 3, 2, 6, 3, 5, 3, 7, 8]\n",
    "l2 = list(dict.fromkeys(l1))\n",
    "print('new list after removing duplicate elements is:',l2)\n"
   ]
  },
  {
   "cell_type": "code",
   "execution_count": 24,
   "id": "723a38be",
   "metadata": {},
   "outputs": [
    {
     "name": "stdout",
     "output_type": "stream",
     "text": [
      "given list is not empty\n"
     ]
    }
   ],
   "source": [
    "#9. Write a Python program to check a list is empty or not.\n",
    "a=['run','walk','sit']\n",
    "if len(a)==0:\n",
    "    print('given list is empty')\n",
    "else:\n",
    "    print('given list is not empty')"
   ]
  },
  {
   "cell_type": "code",
   "execution_count": 23,
   "id": "cf0ce6dd",
   "metadata": {},
   "outputs": [
    {
     "name": "stdout",
     "output_type": "stream",
     "text": [
      "True\n"
     ]
    }
   ],
   "source": [
    "#10. Write a Python function that takes two lists and returns true if they have at least one common member.\n",
    "a=[1,2,4,5,6]\n",
    "b=[2,8,90,20]\n",
    "for i in a:\n",
    "    for j in b:\n",
    "        if i==j:\n",
    "            print('True')"
   ]
  },
  {
   "cell_type": "code",
   "execution_count": 22,
   "id": "37215395",
   "metadata": {},
   "outputs": [
    {
     "name": "stdout",
     "output_type": "stream",
     "text": [
      "first five elements: [1, 4, 9, 16, 25, 36]\n",
      "last five elements: [676, 729, 784, 841, 900]\n"
     ]
    }
   ],
   "source": [
    "#11. Write a Python program to generate and print a list of first and last 5 elements where the values are square of numbers between 1 and 30.\n",
    "l1=[]\n",
    "for i in range(1,31):\n",
    "    l1.append(i**2)\n",
    "print('first five elements:',l1[0:6])\n",
    "print('last five elements:',l1[-5:])\n",
    "        \n",
    "    "
   ]
  },
  {
   "cell_type": "code",
   "execution_count": 14,
   "id": "19705120",
   "metadata": {},
   "outputs": [
    {
     "name": "stdout",
     "output_type": "stream",
     "text": [
      "new list after removing duplicate elements is: [2, 6, 8, 9]\n"
     ]
    }
   ],
   "source": [
    "#12. Write a Python function that takes a list and returns a new list with unique elements of the first list.\n",
    "l1 = [2, 2, 2, 6, 6, 6, 6, 8, 8, 8, 8, 9, 9, 9, 9]\n",
    "l2 = list(dict.fromkeys(l1))\n",
    "print('new list after removing duplicate elements is:',l2)\n",
    "\n"
   ]
  },
  {
   "cell_type": "code",
   "execution_count": 20,
   "id": "1c384bc3",
   "metadata": {},
   "outputs": [
    {
     "name": "stdout",
     "output_type": "stream",
     "text": [
      "element after coverting to string: ['1', '2', '3', '4', '5', '6', '78']\n"
     ]
    }
   ],
   "source": [
    "#13. Write a Python program to convert a list of characters into a string.\n",
    "a=[1,2,3,4,5,6,78]\n",
    "l1=[]\n",
    "for i in a:\n",
    "    l1.append(str(i))\n",
    "print('element after coverting to string:',l1)\n",
    "    "
   ]
  },
  {
   "cell_type": "code",
   "execution_count": 19,
   "id": "b61d1a9e",
   "metadata": {},
   "outputs": [
    {
     "name": "stdout",
     "output_type": "stream",
     "text": [
      "Elephant\n"
     ]
    }
   ],
   "source": [
    "#14. Write a Python program to select an item randomly from a list.\n",
    "import random\n",
    "animal = [\"Cat\", \"Dog\", \"Elephant\", \"Fox\", \"Tiger\", \"Lion\", \"Panda\"]\n",
    "print(random.choice(animal))\n"
   ]
  },
  {
   "cell_type": "code",
   "execution_count": 19,
   "id": "d587f4a7",
   "metadata": {},
   "outputs": [
    {
     "name": "stdout",
     "output_type": "stream",
     "text": [
      "second smallest number from given list is: 82\n"
     ]
    }
   ],
   "source": [
    "#15. Write a Python program to find the second smallest number in a list. \n",
    "a=[90,82,65,25]\n",
    "a.sort()\n",
    "print('second smallest number from given list is:',a[-2])"
   ]
  },
  {
   "cell_type": "code",
   "execution_count": 21,
   "id": "77653b40",
   "metadata": {},
   "outputs": [
    {
     "name": "stdout",
     "output_type": "stream",
     "text": [
      "List of unique numbers :  [40, 10, 80, 50, 20, 123, 60, 30]\n"
     ]
    }
   ],
   "source": [
    "#16. Write a Python program to get unique values from a list.\n",
    "l1 = [10, 20, 30, 40, 20, 50, 60, 40, 80, 123]\n",
    "a = set(l1)\n",
    "l2 = list(a)\n",
    "print(\"List of unique numbers : \",l2)\n",
    "\n"
   ]
  },
  {
   "cell_type": "code",
   "execution_count": 24,
   "id": "465db4e6",
   "metadata": {},
   "outputs": [
    {
     "name": "stdout",
     "output_type": "stream",
     "text": [
      "List is present\n"
     ]
    }
   ],
   "source": [
    "#17. Write a Python program to check whether a list contains a sub list.\n",
    "l1 = [[1,5,7,], [2, 3, 4], [3, 6, 9], [4, 8, 12]] \n",
    "l2 = [2,3,4]\n",
    "if l2 in l1: \n",
    "    print(\"List is present\") \n",
    "else: \n",
    "    print(\"List is not present\") \n"
   ]
  },
  {
   "cell_type": "code",
   "execution_count": 17,
   "id": "7f9224e1",
   "metadata": {},
   "outputs": [
    {
     "name": "stdout",
     "output_type": "stream",
     "text": [
      "variable 1 is otter\n",
      "variable 2 is dolphins\n",
      "variable 3 is corals\n",
      "variable 4 is starfish\n"
     ]
    }
   ],
   "source": [
    "#18.Write a Python program to split a list into different variables.\n",
    "a=['otter','dolphins','corals','starfish']\n",
    "w,x,y,z=a\n",
    "print('variable 1 is',w)\n",
    "print('variable 2 is',x)\n",
    "print('variable 3 is',y)\n",
    "print('variable 4 is',z)\n"
   ]
  },
  {
   "cell_type": "code",
   "execution_count": null,
   "id": "f41638d9",
   "metadata": {},
   "outputs": [],
   "source": [
    "#19. What is tuple? Difference between list and tuple.\n",
    "#tuple is a datatype which is represented in () bracket.\n",
    "#       TUPLE               LIST\n",
    "#    -> Immutable       -> Mutable\n",
    "\n",
    "#    -> key for         -> list is not key \n",
    "#       dictionary         for dictionary\n",
    "\n",
    "#    -> represented      -> represented\n",
    "#       in () bracket       in [] bracket"
   ]
  },
  {
   "cell_type": "code",
   "execution_count": 16,
   "id": "96efec7b",
   "metadata": {},
   "outputs": [
    {
     "name": "stdout",
     "output_type": "stream",
     "text": [
      "('sonali', True, 12, 1.0, [1, 2, 3], {'a', 'z'}, {0: 'a', 1: 'b'}, (90, 100))\n"
     ]
    }
   ],
   "source": [
    "#20. Write a Python program to create a tuple with different data types.\n",
    "a='sonali',True,12,1.0,[1,2,3],{'a','z'},{0:'a',1:'b'},(90,100)\n",
    "print(a)"
   ]
  },
  {
   "cell_type": "code",
   "execution_count": 15,
   "id": "1af9d87b",
   "metadata": {},
   "outputs": [
    {
     "name": "stdout",
     "output_type": "stream",
     "text": [
      "(56, 78, 90)\n"
     ]
    }
   ],
   "source": [
    "#21. Write a Python program to create a tuple with numbers.\n",
    "a=56,78,90\n",
    "print(a)"
   ]
  },
  {
   "cell_type": "code",
   "execution_count": 14,
   "id": "4e98eae6",
   "metadata": {},
   "outputs": [
    {
     "name": "stdout",
     "output_type": "stream",
     "text": [
      "1234"
     ]
    }
   ],
   "source": [
    "#22. Write a Python program to convert a tuple to a string.\n",
    "a=(1,2,3,4)\n",
    "for i in a:\n",
    "    str(i)\n",
    "    print(i,end='')\n",
    "    "
   ]
  },
  {
   "cell_type": "code",
   "execution_count": 13,
   "id": "275178a6",
   "metadata": {},
   "outputs": [
    {
     "name": "stdout",
     "output_type": "stream",
     "text": [
      "enter element you want to check if it exist in a tuple or not:sonali\n",
      "True\n"
     ]
    }
   ],
   "source": [
    "#23. Write a Python program to check whether an element exists within a tuple.\n",
    "a=('sonali',True,12,1.0,[1,2,3],{'a','z'},{0:'a',1:'b'},(90,100))\n",
    "if input('enter element you want to check if it exist in a tuple or not:') in a:\n",
    "    print('True')\n",
    "else:\n",
    "    print('False')"
   ]
  },
  {
   "cell_type": "code",
   "execution_count": 12,
   "id": "9eddc50b",
   "metadata": {},
   "outputs": [
    {
     "name": "stdout",
     "output_type": "stream",
     "text": [
      "length of given tuple is: 13\n"
     ]
    }
   ],
   "source": [
    "#24. Write a Python program to find the length of a tuple.\n",
    "a=(3,89,90,45678,75,56,78,34,78,90,23,45,45)\n",
    "print('length of given tuple is:',len(a))"
   ]
  },
  {
   "cell_type": "code",
   "execution_count": 11,
   "id": "fca7a92f",
   "metadata": {},
   "outputs": [
    {
     "name": "stdout",
     "output_type": "stream",
     "text": [
      "(2, 4, 5, 78, 9)\n"
     ]
    }
   ],
   "source": [
    "#25. Write a Python program to convert a list to a tuple.\n",
    "a=[2,4,5,78,9]\n",
    "print(tuple(a))"
   ]
  },
  {
   "cell_type": "code",
   "execution_count": 10,
   "id": "1eef2c2e",
   "metadata": {},
   "outputs": [
    {
     "name": "stdout",
     "output_type": "stream",
     "text": [
      "reversed tuple: ('plains', 'loess', 'valley')\n"
     ]
    }
   ],
   "source": [
    "#26. Write a Python program to reverse a tuple.\n",
    "\n",
    "a=('valley','loess','plains')\n",
    "print('reversed tuple:',a[-1::-1])"
   ]
  },
  {
   "cell_type": "code",
   "execution_count": 25,
   "id": "b3d3d468",
   "metadata": {},
   "outputs": [
    {
     "name": "stdout",
     "output_type": "stream",
     "text": [
      "[(10, 20, 100), (40, 50, 100), (70, 80, 100)]\n"
     ]
    }
   ],
   "source": [
    "#27. Write a Python program to replace last value of tuples in a list.\n",
    "l1 = [(10, 20, 40), (40, 50, 60), (70, 80, 90)]\n",
    "print([t[:-1] + (100,) for t in l1])\n"
   ]
  },
  {
   "cell_type": "code",
   "execution_count": 26,
   "id": "905f0a01",
   "metadata": {},
   "outputs": [
    {
     "name": "stdout",
     "output_type": "stream",
     "text": [
      "3\n"
     ]
    }
   ],
   "source": [
    "#28.Write a Python program to find the repeated items of a tuple.\n",
    "a = 4,6,7,8,4,3,5,6,4,6 \n",
    "c1 = a.count(6)\n",
    "print(c1)\n"
   ]
  },
  {
   "cell_type": "code",
   "execution_count": 29,
   "id": "c4c03a9c",
   "metadata": {},
   "outputs": [
    {
     "name": "stdout",
     "output_type": "stream",
     "text": [
      "[('tiger', 'lion'), ('vayu', 'agni')]\n"
     ]
    }
   ],
   "source": [
    "#29. Write a Python program to remove an empty tuples from a list of tuples.\n",
    "l1= [(), (), ('tiger','lion'), ('vayu','agni')]\n",
    "l1= [i for i in l1 if i]\n",
    "print(l1)\n",
    "\n"
   ]
  },
  {
   "cell_type": "code",
   "execution_count": 9,
   "id": "6e969a69",
   "metadata": {},
   "outputs": [
    {
     "name": "stdout",
     "output_type": "stream",
     "text": [
      "[1, 2, 3][4, 5, 6][7, 8, 9]"
     ]
    }
   ],
   "source": [
    "#30. Write a Python program to unzip a list of tuples into individual lists.\n",
    "a=[(1,2,3),(4,5,6),(7,8,9)]\n",
    "for i in a:\n",
    "    print(list(i),end='')"
   ]
  },
  {
   "cell_type": "code",
   "execution_count": 8,
   "id": "3a2efb03",
   "metadata": {},
   "outputs": [
    {
     "name": "stdout",
     "output_type": "stream",
     "text": [
      "{'a': 0, 'b': 1}\n"
     ]
    }
   ],
   "source": [
    "#31. Write a Python program to convert a list of tuples into a dictionary.\n",
    "a=[('a',0),('b',1)]\n",
    "print(dict(a))"
   ]
  },
  {
   "cell_type": "code",
   "execution_count": 30,
   "id": "cee863d6",
   "metadata": {},
   "outputs": [
    {
     "name": "stdout",
     "output_type": "stream",
     "text": [
      "Sorted dictionary is : [(2, 'three'), (1, 'two')]\n"
     ]
    }
   ],
   "source": [
    "#32. Write a Python script to sort (ascending and descending) a dictionary by value.\n",
    "d1 = {2: 'three',1: 'two'}\n",
    "d2 = sorted(d1.items(),key = lambda kv: kv[1])\n",
    "print(\"Sorted dictionary is :\",d2)\n"
   ]
  },
  {
   "cell_type": "code",
   "execution_count": 3,
   "id": "0071399e",
   "metadata": {},
   "outputs": [
    {
     "name": "stdout",
     "output_type": "stream",
     "text": [
      "new dictionary after concatenation: {'a': 0, 'b': 1, 'c': 2, 'd': 3}\n"
     ]
    }
   ],
   "source": [
    "#33. Write a Python script to concatenate following dictionaries to create a new one.\n",
    "a={'a':0,'b':1}\n",
    "b={'c':2,'d':3}\n",
    "c={}\n",
    "for i in (a,b):\n",
    "    c.update(i)\n",
    "print('new dictionary after concatenation:',c)"
   ]
  },
  {
   "cell_type": "code",
   "execution_count": 4,
   "id": "2a2c4070",
   "metadata": {},
   "outputs": [
    {
     "name": "stdout",
     "output_type": "stream",
     "text": [
      "z\n",
      "entered key is not present in dictionary\n"
     ]
    }
   ],
   "source": [
    "#34. Write a Python script to check if a given key already exists in a dictionary.\n",
    "a={'a':0,'b':1}\n",
    "if input() in a:\n",
    "    print('entered key is present in dictionary')\n",
    "else:\n",
    "    print('entered key is not present in dictionary')"
   ]
  },
  {
   "cell_type": "code",
   "execution_count": null,
   "id": "8ce764b5",
   "metadata": {},
   "outputs": [],
   "source": [
    "#35.How Do You Traverse Through A Dictionary Object In Python?\n",
    "# Traversing through a dictionary can be done by some methods such as\n",
    "# keys()\n",
    "#get()\n",
    "#values()"
   ]
  },
  {
   "cell_type": "code",
   "execution_count": 5,
   "id": "d1fc45da",
   "metadata": {},
   "outputs": [
    {
     "name": "stdout",
     "output_type": "stream",
     "text": [
      "a\n",
      "entered key is present in dictionary\n"
     ]
    }
   ],
   "source": [
    "#36. How Do You Check The Presence Of A Key In A Dictionary?\n",
    "# it can be checked by using membership operator.\n",
    "a={'a':0,'b':1}\n",
    "if input() in a:\n",
    "    print('entered key is present in dictionary')\n",
    "else:\n",
    "    print('entered key is not present in dictionary')\n"
   ]
  },
  {
   "cell_type": "code",
   "execution_count": 31,
   "id": "3a0efa11",
   "metadata": {},
   "outputs": [
    {
     "name": "stdout",
     "output_type": "stream",
     "text": [
      "True\n"
     ]
    }
   ],
   "source": [
    "#37. Write a Python program to check multiple keys exists in a dictionary.\n",
    "s1 = {'name': 'Alex','class': 'V'}\n",
    "print(s1.keys() >= {'class', 'name'})\n"
   ]
  },
  {
   "cell_type": "code",
   "execution_count": 6,
   "id": "beba0b62",
   "metadata": {},
   "outputs": [
    {
     "name": "stdout",
     "output_type": "stream",
     "text": [
      "new dictionary after merging: {'dawn': 1, 'day': 2, 'dusk': 3, 'night': 4}\n"
     ]
    }
   ],
   "source": [
    "#40. Write a Python script to merge two Python dictionaries.\n",
    "a={'dawn':1,'day':2}\n",
    "b={'dusk':3,'night':4}\n",
    "c={}\n",
    "for i in (a,b):\n",
    "    c.update(i)\n",
    "print('new dictionary after merging:',c)"
   ]
  },
  {
   "cell_type": "code",
   "execution_count": 32,
   "id": "f3ce1434",
   "metadata": {},
   "outputs": [
    {
     "name": "stdout",
     "output_type": "stream",
     "text": [
      "{'a': 0, 'b': 1, 'c': 2}\n"
     ]
    }
   ],
   "source": [
    "#41. Write a Python program to map two lists into a dictionary.\n",
    "keys = ['a','b','c']\n",
    "values = [0,1,2]\n",
    "d1 = dict(zip(keys, values))\n",
    "print(d1)\n"
   ]
  }
 ],
 "metadata": {
  "kernelspec": {
   "display_name": "Python 3 (ipykernel)",
   "language": "python",
   "name": "python3"
  },
  "language_info": {
   "codemirror_mode": {
    "name": "ipython",
    "version": 3
   },
   "file_extension": ".py",
   "mimetype": "text/x-python",
   "name": "python",
   "nbconvert_exporter": "python",
   "pygments_lexer": "ipython3",
   "version": "3.9.13"
  }
 },
 "nbformat": 4,
 "nbformat_minor": 5
}
