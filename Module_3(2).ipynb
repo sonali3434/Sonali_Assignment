{
 "cells": [
  {
   "cell_type": "code",
   "execution_count": 1,
   "id": "51628f07",
   "metadata": {},
   "outputs": [
    {
     "name": "stdout",
     "output_type": "stream",
     "text": [
      "{'a': 400, 'b': 400, 'c': 300}\n"
     ]
    }
   ],
   "source": [
    "#1.Write a Python program to combine two dictionary adding values for common keys.\n",
    "d1 = {'a': 100, 'b': 200, 'c':300}\n",
    "d2 = {'a': 300, 'b': 200, 'd':400}\n",
    "d3 = {}\n",
    "for i, j in d1.items():\n",
    "    for k, l in d2.items():\n",
    "        if i == k:\n",
    "            d3[i]=(j+l)\n",
    "else:\n",
    "    d3[i]=j\n",
    "print(d3)"
   ]
  },
  {
   "cell_type": "code",
   "execution_count": 2,
   "id": "aedb069c",
   "metadata": {},
   "outputs": [
    {
     "name": "stdout",
     "output_type": "stream",
     "text": [
      "{'a': 0, 'c': 2}\n"
     ]
    }
   ],
   "source": [
    "#2.Write a Python program to print all unique values in a dictionary.\n",
    "a={'a':0,'b':1,'c':2,'d':1}\n",
    "c={}\n",
    "b=list(a.values())\n",
    "for i,j in a.items():\n",
    "    if b.count(j)==1:\n",
    "        c[i]=j        \n",
    "print(c)\n",
    "        \n"
   ]
  },
  {
   "cell_type": "code",
   "execution_count": null,
   "id": "5fc6fb8d",
   "metadata": {},
   "outputs": [],
   "source": [
    "#3.Why Do You Use the Zip () Method in Python?\n",
    "#The zip() function returns a zip object, which is an iterator of tuples where the first item in each passed iterator is paired together, and then the second item in each passed iterator are paired together.\n",
    "#Python's zip() function creates an iterator that will aggregate elements from two or more iterables. You can use the resulting iterator to quickly and consistently solve common programming problems, like creating dictionaries."
   ]
  },
  {
   "cell_type": "code",
   "execution_count": null,
   "id": "5405c0c8",
   "metadata": {},
   "outputs": [],
   "source": [
    "#4.Write a Python program to create and display all combinations of letters,selecting each letter from a different key in a dictionary.\n",
    "d1={'1': ['a','b'], '2': ['c','d']}\n",
    "for i,j in d1.items():\n",
    "    print(j[0]+j[1],end=' ')"
   ]
  },
  {
   "cell_type": "code",
   "execution_count": 3,
   "id": "2786c529",
   "metadata": {},
   "outputs": [
    {
     "name": "stdout",
     "output_type": "stream",
     "text": [
      "highest three values in dictionary are : [90, 50, 35]\n"
     ]
    }
   ],
   "source": [
    "#5.Write a Python program to find the highest 3 values in a dictionary.\n",
    "a={'a':0,'b':1,'c':2,'d':90,'e':35,'f':50}\n",
    "b=list(a.values())\n",
    "b.sort(reverse=True)\n",
    "print('highest three values in dictionary are :',b[0:3])"
   ]
  },
  {
   "cell_type": "code",
   "execution_count": 9,
   "id": "8d31fd9d",
   "metadata": {},
   "outputs": [
    {
     "name": "stdout",
     "output_type": "stream",
     "text": [
      "{'item1': 1150, 'item2': 300}\n"
     ]
    }
   ],
   "source": [
    "#6.Write a Python program to combine values in python list of dictionaries. \n",
    "l1= [{'item': 'item1', 'amount': 400}, {'item': 'item2', 'amount': 300},{'item': 'item1', 'amount': 750}]\n",
    "d1={}\n",
    "for i in l1:\n",
    "    if i['item'] not in d1:\n",
    "        d1[i['item']]=i['amount']\n",
    "    else:\n",
    "        d1[i['item']]+=i['amount']\n",
    "print(d1)   "
   ]
  },
  {
   "cell_type": "code",
   "execution_count": 5,
   "id": "36d4b238",
   "metadata": {},
   "outputs": [
    {
     "name": "stdout",
     "output_type": "stream",
     "text": [
      "enter a string:i love python programming\n",
      "{'i': 2, ' ': 3, 'l': 1, 'o': 3, 'v': 1, 'e': 1, 'p': 2, 'y': 1, 't': 1, 'h': 1, 'n': 2, 'r': 2, 'g': 2, 'a': 1, 'm': 2}\n"
     ]
    }
   ],
   "source": [
    "#7.Write a Python program to create a dictionary from a string.\n",
    "#Note: Track the count of the letters from the string. Sample string:\n",
    "#'w3resource'\n",
    "# Expected output: {'3': 1,’s’: 1, 'r': 2, 'u': 1, 'w': 1, 'c': 1, 'e': 2, 'o': 1}\n",
    "a=input('enter a string:')\n",
    "b={}\n",
    "for i in a:\n",
    "    b[i]=a.count(i)\n",
    "print(b)"
   ]
  },
  {
   "cell_type": "code",
   "execution_count": 8,
   "id": "d0e843fd",
   "metadata": {},
   "outputs": [
    {
     "name": "stdout",
     "output_type": "stream",
     "text": [
      "enter any number:67\n",
      "36471110918188685288249859096605464427167635314049524593701628500267962436943872000000000000000\n"
     ]
    }
   ],
   "source": [
    "#8.Write a Python function to calculate the factorial of a number (a non-negative integer).\n",
    "def fact(n):\n",
    "    if a == 0:\n",
    "        return 1\n",
    "    else:\n",
    "        return a * factorial(a-1)\n",
    "a=int(input('enter any number:'))\n",
    "print(fact(a))\n"
   ]
  },
  {
   "cell_type": "code",
   "execution_count": 3,
   "id": "b95a1cc5",
   "metadata": {},
   "outputs": [
    {
     "name": "stdout",
     "output_type": "stream",
     "text": [
      "True\n"
     ]
    }
   ],
   "source": [
    "#9.Write a Python function to check whether a number is perfect or not.\n",
    "def number(a):\n",
    "    sum = 0\n",
    "    for i in range(1, a):\n",
    "        if a % i == 0:\n",
    "            sum += i\n",
    "    return sum == a\n",
    "print(number(496))\n"
   ]
  },
  {
   "cell_type": "code",
   "execution_count": 46,
   "id": "78199024",
   "metadata": {},
   "outputs": [
    {
     "name": "stdout",
     "output_type": "stream",
     "text": [
      "enter any string:mom\n",
      "given string is palindrome\n"
     ]
    }
   ],
   "source": [
    "#10.Write a Python function that checks whether a passed string is palindrome or not .\n",
    "def a(s1):\n",
    "    if s1==s1[::-1]:\n",
    "        return 'given string is palindrome'\n",
    "    else:\n",
    "        return 'given string is not palindrome'\n",
    "s1=input('enter any string:')\n",
    "print(a(s1))\n"
   ]
  },
  {
   "cell_type": "code",
   "execution_count": null,
   "id": "67e17a7e",
   "metadata": {},
   "outputs": [],
   "source": [
    "#11.What is lambda function in python? What we call a function which is incomplete version of a function?\n",
    "#A Lambda Function in Python programming is an anonymous function or a function having no name. It is a small and restricted function having no more than one line. Just like a normal function, a Lambda function can have multiple arguments with one expression."
   ]
  },
  {
   "cell_type": "code",
   "execution_count": null,
   "id": "689c0283",
   "metadata": {},
   "outputs": [],
   "source": [
    "#12.How Many Basic Types Of Functions Are Available In Python?\n",
    "#1.User-defined function.\n",
    "#2.Built-in function.\n",
    "#3.Anonymous function or Lambda function."
   ]
  },
  {
   "cell_type": "code",
   "execution_count": 52,
   "id": "45a2317e",
   "metadata": {},
   "outputs": [
    {
     "name": "stdout",
     "output_type": "stream",
     "text": [
      "enter degree: 67\n",
      "radian value of given degree is: 1.168777777777778\n"
     ]
    }
   ],
   "source": [
    "#13.Write a Python program to convert degree to radian.\n",
    "d= float(input('enter degree: '))\n",
    "r=d*(3.14/180)\n",
    "print('radian value of given degree is:',r)\n"
   ]
  },
  {
   "cell_type": "code",
   "execution_count": 54,
   "id": "669a4400",
   "metadata": {},
   "outputs": [
    {
     "name": "stdout",
     "output_type": "stream",
     "text": [
      "enter height: 3.4\n",
      "enter b1 value: 5.6\n",
      "enter b2 value: 7.9\n",
      "Area of trapezoid is: 22.95\n"
     ]
    }
   ],
   "source": [
    "#14.Write a Python program to calculate the area of a trapezoid.\n",
    "h=float(input('enter height : '))\n",
    "b1= float(input('enter b1 value : '))\n",
    "b2= float(input('enter b2 value : '))\n",
    "a=((b1+b2)/2)*h\n",
    "print('Area of trapezoid is:',int(a))\n"
   ]
  },
  {
   "cell_type": "code",
   "execution_count": 58,
   "id": "3851859a",
   "metadata": {},
   "outputs": [
    {
     "name": "stdout",
     "output_type": "stream",
     "text": [
      "enter length: 2.0\n",
      "enter height: 3\n",
      "Area of parallelogram is: 6\n"
     ]
    }
   ],
   "source": [
    "#15.Write a Python program to calculate the area of a parallelogram.\n",
    "b=float(input('enter length: '))\n",
    "h= float(input('enter height: '))\n",
    "a=b*h\n",
    "print(\"Area of parallelogram is:\",int(a))\n"
   ]
  },
  {
   "cell_type": "code",
   "execution_count": 59,
   "id": "2351f9d3",
   "metadata": {},
   "outputs": [
    {
     "name": "stdout",
     "output_type": "stream",
     "text": [
      "enter height: 2.6\n",
      "enter radius: 6.9\n",
      "Volume of cylinder is: 388.68804000000006\n",
      "Area of cylinder is: 411.65400000000005\n"
     ]
    }
   ],
   "source": [
    "#16.Write a Python program to calculate surface volume and area of a cylinder.\n",
    "h=float(input('enter height: '))\n",
    "r=float(input('enter radius: '))\n",
    "v=3.14* r**2*h\n",
    "a= (2*3.14*r*h) + (3.14*r**2*2)\n",
    "print('Volume of cylinder is:', v)\n",
    "print('Area of cylinder is:',a)\n"
   ]
  },
  {
   "cell_type": "code",
   "execution_count": 4,
   "id": "81409056",
   "metadata": {},
   "outputs": [
    {
     "name": "stdout",
     "output_type": "stream",
     "text": [
      "enter any number:10\n",
      "sum of all divisors of entered number is: 18\n"
     ]
    }
   ],
   "source": [
    "#17.Write a Python program to returns sum of all divisors of a number.\n",
    "a=int(input('enter any number:'))\n",
    "b=0\n",
    "for i in range(1,a+1):\n",
    "    if a%i==0:\n",
    "        b+=i\n",
    "print('sum of all divisors of entered number is:',b)\n",
    "        \n",
    "\n"
   ]
  },
  {
   "cell_type": "code",
   "execution_count": 9,
   "id": "961641b2",
   "metadata": {},
   "outputs": [
    {
     "name": "stdout",
     "output_type": "stream",
     "text": [
      "minimum number from given decimal is: 2.5\n",
      "maximum number from given decimal is: 90.0\n"
     ]
    }
   ],
   "source": [
    "#18.Write a Python program to find the maximum and minimum numbers from the specified decimal numbers.\n",
    "a=min(2.5,6.7,90.0)\n",
    "b=max(2.5,6.7,90.0)\n",
    "print('minimum number from given decimal is:',a)\n",
    "print('maximum number from given decimal is:',b)\n",
    "\n"
   ]
  }
 ],
 "metadata": {
  "kernelspec": {
   "display_name": "Python 3 (ipykernel)",
   "language": "python",
   "name": "python3"
  },
  "language_info": {
   "codemirror_mode": {
    "name": "ipython",
    "version": 3
   },
   "file_extension": ".py",
   "mimetype": "text/x-python",
   "name": "python",
   "nbconvert_exporter": "python",
   "pygments_lexer": "ipython3",
   "version": "3.9.13"
  }
 },
 "nbformat": 4,
 "nbformat_minor": 5
}
